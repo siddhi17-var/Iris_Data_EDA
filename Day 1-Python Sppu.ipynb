{
 "cells": [
  {
   "cell_type": "code",
   "execution_count": 1,
   "id": "c32f4082-2268-4a6b-8a59-ebe49ca7ce93",
   "metadata": {},
   "outputs": [
    {
     "name": "stdout",
     "output_type": "stream",
     "text": [
      "hello\n"
     ]
    }
   ],
   "source": [
    "print(\"hello\")"
   ]
  },
  {
   "cell_type": "code",
   "execution_count": null,
   "id": "62089702-ee11-4691-9bb4-f12b39c4bbb7",
   "metadata": {},
   "outputs": [],
   "source": [
    "Variable :  name of memory location where data get stored\n",
    "scopes of variable:\n",
    "local \n",
    "global\n"
   ]
  },
  {
   "cell_type": "code",
   "execution_count": 3,
   "id": "d66c0348-a179-4806-823d-a38d0b4d8cf1",
   "metadata": {},
   "outputs": [
    {
     "name": "stdout",
     "output_type": "stream",
     "text": [
      "140731778475208\n",
      "140731778478088\n"
     ]
    }
   ],
   "source": [
    "a=10\n",
    "b=100\n",
    "print(id(a)) #id--return the memeory address\n",
    "print(id(b))"
   ]
  },
  {
   "cell_type": "code",
   "execution_count": null,
   "id": "98953b1c-c6c6-48cc-971e-def37da38d76",
   "metadata": {},
   "outputs": [],
   "source": [
    "keywords: reserved words\n"
   ]
  },
  {
   "cell_type": "code",
   "execution_count": 7,
   "id": "6ba08921-927b-4ae1-9264-6e0801b5b753",
   "metadata": {},
   "outputs": [
    {
     "name": "stdout",
     "output_type": "stream",
     "text": [
      "['False', 'None', 'True', 'and', 'as', 'assert', 'async', 'await', 'break', 'class', 'continue', 'def', 'del', 'elif', 'else', 'except', 'finally', 'for', 'from', 'global', 'if', 'import', 'in', 'is', 'lambda', 'nonlocal', 'not', 'or', 'pass', 'raise', 'return', 'try', 'while', 'with', 'yield']\n"
     ]
    }
   ],
   "source": [
    "import keyword\n",
    "print(keyword.kwlist)"
   ]
  },
  {
   "cell_type": "code",
   "execution_count": 1,
   "id": "af256d7e-2033-4d14-a471-3f38e99e8fc6",
   "metadata": {},
   "outputs": [
    {
     "ename": "NameError",
     "evalue": "name 'a' is not defined",
     "output_type": "error",
     "traceback": [
      "\u001b[31m---------------------------------------------------------------------------\u001b[39m",
      "\u001b[31mNameError\u001b[39m                                 Traceback (most recent call last)",
      "\u001b[36mCell\u001b[39m\u001b[36m \u001b[39m\u001b[32mIn[1]\u001b[39m\u001b[32m, line 9\u001b[39m\n\u001b[32m      5\u001b[39m     x=\u001b[32m20\u001b[39m\n\u001b[32m      8\u001b[39m x=\u001b[32m10\u001b[39m \u001b[38;5;66;03m#global\u001b[39;00m\n\u001b[32m----> \u001b[39m\u001b[32m9\u001b[39m \u001b[38;5;28mprint\u001b[39m(\u001b[43ma\u001b[49m)\n\u001b[32m     10\u001b[39m display()\n\u001b[32m     11\u001b[39m \u001b[38;5;28mprint\u001b[39m(\u001b[33m\"\u001b[39m\u001b[33mafter function call x=\u001b[39m\u001b[33m\"\u001b[39m,x)\n",
      "\u001b[31mNameError\u001b[39m: name 'a' is not defined"
     ]
    }
   ],
   "source": [
    "\n",
    "def display():\n",
    "    a=10\n",
    "    b=20\n",
    "    global x\n",
    "    x=20\n",
    "    \n",
    "\n",
    "x=10 #global\n",
    "print(a)\n",
    "display()\n",
    "print(\"after function call x=\",x)\n",
    "\n",
    "\n",
    "    "
   ]
  },
  {
   "cell_type": "code",
   "execution_count": 2,
   "id": "cfb930d4-b2b6-466d-b5e6-7d936b75289b",
   "metadata": {},
   "outputs": [
    {
     "name": "stdout",
     "output_type": "stream",
     "text": [
      "<class 'int'>\n"
     ]
    }
   ],
   "source": [
    "a=10\n",
    "print(type(a))"
   ]
  },
  {
   "cell_type": "code",
   "execution_count": 7,
   "id": "7f762790-46f2-4ea6-820c-6e7f71aa55b3",
   "metadata": {},
   "outputs": [
    {
     "name": "stdin",
     "output_type": "stream",
     "text": [
      " 123456\n"
     ]
    },
    {
     "name": "stdout",
     "output_type": "stream",
     "text": [
      "['1', '2', '3', '4', '5', '6']\n",
      "<class 'list'>\n"
     ]
    }
   ],
   "source": [
    "a=list(input())\n",
    "\n",
    "print(a)\n",
    "print(type(a))"
   ]
  },
  {
   "cell_type": "code",
   "execution_count": null,
   "id": "b68dee7c-7956-461d-8699-5d5d38c390fb",
   "metadata": {},
   "outputs": [],
   "source": [
    "operators:\n",
    "arithematic + - * ** // / %\n",
    "relational < > <= >= != ==\n",
    "assignment += -= **= *=\n",
    "logical and or not\n",
    "bitwise & | ^ ~ << >>\n",
    "membership operator in not in\n",
    "identify operator is not is\n"
   ]
  },
  {
   "cell_type": "code",
   "execution_count": 8,
   "id": "e60dca83-1995-44cf-83fe-2a52f4472f92",
   "metadata": {},
   "outputs": [
    {
     "name": "stdout",
     "output_type": "stream",
     "text": [
      "100\n",
      "2.5\n",
      "2\n",
      "1\n"
     ]
    }
   ],
   "source": [
    "print(10**2)\n",
    "print(5/2)\n",
    "print(5//2) #floor division\n",
    "print(5%2)#modulous"
   ]
  },
  {
   "cell_type": "code",
   "execution_count": 11,
   "id": "2bf91ef1-b951-4d23-be3e-c0d5ccbe3da0",
   "metadata": {},
   "outputs": [
    {
     "ename": "SyntaxError",
     "evalue": "invalid syntax (1746378375.py, line 3)",
     "output_type": "error",
     "traceback": [
      "  \u001b[36mCell\u001b[39m\u001b[36m \u001b[39m\u001b[32mIn[11]\u001b[39m\u001b[32m, line 3\u001b[39m\n\u001b[31m    \u001b[39m\u001b[31msum1=a+=b #a=a+b\u001b[39m\n          ^\n\u001b[31mSyntaxError\u001b[39m\u001b[31m:\u001b[39m invalid syntax\n"
     ]
    }
   ],
   "source": [
    "a=5\n",
    "b=10\n",
    "sum1=a+=b #a=a+b\n",
    "print(sum1)\n",
    "print(a)"
   ]
  },
  {
   "cell_type": "code",
   "execution_count": 14,
   "id": "097cf3b0-82ff-4072-b2c4-a529cd3a224a",
   "metadata": {},
   "outputs": [
    {
     "name": "stdout",
     "output_type": "stream",
     "text": [
      "0\n",
      "6\n",
      "6\n",
      "32\n",
      "0\n",
      "-3\n",
      "0\n"
     ]
    }
   ],
   "source": [
    "print(2&4)\n",
    "print(2^4)\n",
    "print(2|4)\n",
    "print(2<<4)\n",
    "print(2>>4)\n",
    "print(~(2)) \n",
    "print(7^7)"
   ]
  },
  {
   "cell_type": "code",
   "execution_count": 16,
   "id": "faf88441-f9d1-4d90-84ac-82bd5240b934",
   "metadata": {},
   "outputs": [
    {
     "name": "stdout",
     "output_type": "stream",
     "text": [
      "False\n"
     ]
    }
   ],
   "source": [
    "a=[10,20,30,40]\n",
    "print(10 not in a)"
   ]
  },
  {
   "cell_type": "code",
   "execution_count": 19,
   "id": "6d7f810f-96a8-4297-88a7-6cf97ed85121",
   "metadata": {},
   "outputs": [
    {
     "name": "stdout",
     "output_type": "stream",
     "text": [
      "True\n"
     ]
    }
   ],
   "source": [
    "a=10\n",
    "b=20\n",
    "print(a is not  b)"
   ]
  },
  {
   "cell_type": "code",
   "execution_count": 4,
   "id": "3a979f7f-d97f-42a6-a879-0300b3e085b4",
   "metadata": {},
   "outputs": [
    {
     "name": "stdout",
     "output_type": "stream",
     "text": [
      "True\n",
      "True\n",
      "False\n"
     ]
    }
   ],
   "source": [
    "#difference bwtween is and ==\n",
    "a=[1,2,3]\n",
    "b=[1,2,3]\n",
    "c=a\n",
    "print(a is c)\n",
    "print(a==b)\n",
    "print(a is b)"
   ]
  },
  {
   "cell_type": "code",
   "execution_count": null,
   "id": "162fe95e-9f3c-4b3a-981c-062e625b99ff",
   "metadata": {},
   "outputs": [],
   "source": [
    "\"\"\"\n",
    "for loop\n",
    "\n",
    "        for  variable in range(start,end,step):\n",
    "\n",
    "while loop\n",
    "\n",
    "\"\"\""
   ]
  },
  {
   "cell_type": "code",
   "execution_count": 5,
   "id": "500f0bd9-aaa2-4f66-8a9c-02334a7bf620",
   "metadata": {},
   "outputs": [
    {
     "name": "stdout",
     "output_type": "stream",
     "text": [
      "1\n",
      "3\n",
      "5\n",
      "7\n",
      "9\n"
     ]
    }
   ],
   "source": [
    "for i in range(1,10,2):\n",
    "    print(i)"
   ]
  },
  {
   "cell_type": "code",
   "execution_count": 6,
   "id": "8fc7a3ad-fd88-4d5b-861a-65aae3be023f",
   "metadata": {},
   "outputs": [
    {
     "name": "stdout",
     "output_type": "stream",
     "text": [
      "10\n",
      "8\n",
      "6\n",
      "4\n",
      "2\n"
     ]
    }
   ],
   "source": [
    "for i in range(10,1,-2):\n",
    "    print(i)"
   ]
  },
  {
   "cell_type": "code",
   "execution_count": 8,
   "id": "cb801e3e-12af-4684-af35-1c591047fba7",
   "metadata": {},
   "outputs": [
    {
     "name": "stdin",
     "output_type": "stream",
     "text": [
      "Enter the n value 5\n"
     ]
    },
    {
     "name": "stdout",
     "output_type": "stream",
     "text": [
      "*\n",
      "**\n",
      "***\n",
      "****\n",
      "*****\n"
     ]
    }
   ],
   "source": [
    "n=int(input(\"Enter the n value\"))\n",
    "for i in range(1,n+1):\n",
    "    print('*'*i)"
   ]
  },
  {
   "cell_type": "code",
   "execution_count": 9,
   "id": "18c7ed56-57ab-4c02-a8bb-adb12abab45e",
   "metadata": {},
   "outputs": [
    {
     "name": "stdin",
     "output_type": "stream",
     "text": [
      "Enter the n value 5\n"
     ]
    },
    {
     "name": "stdout",
     "output_type": "stream",
     "text": [
      "    *\n",
      "   **\n",
      "  ***\n",
      " ****\n",
      "*****\n"
     ]
    }
   ],
   "source": [
    "n=int(input(\"Enter the n value\"))\n",
    "for i in range(1,n+1):\n",
    "    print(\" \"*(n-i)+'*'*i)"
   ]
  },
  {
   "cell_type": "code",
   "execution_count": null,
   "id": "0e47988b-99f5-411c-8af3-0c2da7201a27",
   "metadata": {},
   "outputs": [],
   "source": [
    "while loop and functions\n",
    "\n",
    "synatx :\n",
    "while condition:\n",
    "    #while body"
   ]
  },
  {
   "cell_type": "code",
   "execution_count": null,
   "id": "f8d08d1e-b51f-43a5-b2a3-129066031de4",
   "metadata": {},
   "outputs": [],
   "source": [
    "#negative postive\n",
    "#even and odd\n",
    "#factorial\n",
    "#fibonacci series\n",
    "#sum of digits\n",
    "#reverse number\n",
    "#polumorphisum\n",
    "#armstrong\n",
    "#prime number"
   ]
  },
  {
   "cell_type": "code",
   "execution_count": 11,
   "id": "5437b50e-bed5-4970-bfdb-8cbc1a09e73a",
   "metadata": {},
   "outputs": [
    {
     "name": "stdin",
     "output_type": "stream",
     "text": [
      "Enter the number 7\n"
     ]
    },
    {
     "name": "stdout",
     "output_type": "stream",
     "text": [
      "5040\n"
     ]
    }
   ],
   "source": [
    "#factorial\n",
    "\"\"\"\n",
    "5!=5*4*3*2*1=120\n",
    "\"\"\"\n",
    "\n",
    "n=int(input(\"Enter the number\"))\n",
    "fact=1\n",
    "for i in range(1,n+1):\n",
    "    fact=i*fact\n",
    "\n",
    "for i in range(n,0,-1):\n",
    "    fact=i*fact\n",
    "print(fact)"
   ]
  },
  {
   "cell_type": "code",
   "execution_count": 14,
   "id": "5da5e117-34b1-493d-897e-70431b604ec5",
   "metadata": {},
   "outputs": [
    {
     "name": "stdin",
     "output_type": "stream",
     "text": [
      "Enter the nth term for fibo series 8\n"
     ]
    },
    {
     "name": "stdout",
     "output_type": "stream",
     "text": [
      "0 1 1 2 3 5 8 13 "
     ]
    }
   ],
   "source": [
    "\"\"\"\n",
    "#fibonacci series\n",
    "\n",
    "0 1 1 2 3 5 8.....\n",
    "\"\"\"\n",
    "n=int(input(\"Enter the nth term for fibo series\"))\n",
    "n1=0\n",
    "n2=1\n",
    "print(n1,n2,end=\" \")\n",
    "n=n-2\n",
    "\n",
    "while n>0:\n",
    "    n3=n1+n2\n",
    "    print(n3,end=\" \")\n",
    "    n1=n2\n",
    "    n2=n3\n",
    "    n-=1"
   ]
  },
  {
   "cell_type": "code",
   "execution_count": 16,
   "id": "54b081bf-9b5f-4cfb-bc81-e6a1ba7002e2",
   "metadata": {},
   "outputs": [
    {
     "name": "stdin",
     "output_type": "stream",
     "text": [
      "Enter the n value 459\n"
     ]
    },
    {
     "name": "stdout",
     "output_type": "stream",
     "text": [
      "18\n"
     ]
    }
   ],
   "source": [
    "#sum of the digit\n",
    "\n",
    "n=int(input(\"Enter the n value\"))#459\n",
    "sum=0#0\n",
    "\n",
    "while n!=0:#0!=0\n",
    "    digit=n%10 #4\n",
    "    sum+=digit#18\n",
    "    n//=10#0\n",
    "\n",
    "print(sum)"
   ]
  },
  {
   "cell_type": "code",
   "execution_count": 18,
   "id": "dafd8042-5724-4533-8674-996be90153c9",
   "metadata": {},
   "outputs": [
    {
     "name": "stdout",
     "output_type": "stream",
     "text": [
      "a value inside the function [10, 'hello', 30]\n",
      "a value after the function call [10, 'hello', 30]\n"
     ]
    }
   ],
   "source": [
    "#functions:\n",
    "def funaction_name(a):\n",
    "    a[1]=\"hello\"\n",
    "    print(\"a value inside the function\",a)\n",
    "    \n",
    "a=[10,20,30]\n",
    "funaction_name(a)\n",
    "print(\"a value after the function call\",a)"
   ]
  },
  {
   "cell_type": "code",
   "execution_count": 21,
   "id": "f77425c1-6a34-46db-a42d-c3991aee330b",
   "metadata": {},
   "outputs": [
    {
     "name": "stdout",
     "output_type": "stream",
     "text": [
      "60\n"
     ]
    }
   ],
   "source": [
    "\n",
    "sum1=lambda a,b,c:a+b+c\n",
    "\n",
    "print(sum1(10,20,30))"
   ]
  },
  {
   "cell_type": "code",
   "execution_count": 24,
   "id": "15c9d432-601b-4da5-bc15-8b94845dbce7",
   "metadata": {},
   "outputs": [
    {
     "name": "stdout",
     "output_type": "stream",
     "text": [
      "python programming\n",
      "java programming\n",
      "c# programming\n"
     ]
    }
   ],
   "source": [
    "#required and default parameters\n",
    "def display(pl_name,p=\"programming\"):\n",
    "    print(pl_name+\" \"+p)\n",
    "\n",
    "\n",
    "display(\"python\")\n",
    "display(\"java\")\n",
    "display(\"c#\")"
   ]
  },
  {
   "cell_type": "code",
   "execution_count": 30,
   "id": "af3791e7-f436-4d38-9df6-0c0126b0c637",
   "metadata": {},
   "outputs": [
    {
     "name": "stdout",
     "output_type": "stream",
     "text": [
      "krishna vasudev\n",
      "krishna vasudev\n"
     ]
    }
   ],
   "source": [
    "#keywords parameters\n",
    "def display_emp_name(last_name,first_name):\n",
    "    print(f\"{first_name} {last_name}\")\n",
    "\n",
    "display_emp_name(first_name=\"krishna\",last_name=\"vasudev\")\n",
    "display_emp_name(last_name=\"vasudev\",first_name=\"krishna\")\n"
   ]
  },
  {
   "cell_type": "code",
   "execution_count": 2,
   "id": "62ec6123-d87b-4673-813d-2ed15f868e5b",
   "metadata": {},
   "outputs": [
    {
     "name": "stdout",
     "output_type": "stream",
     "text": [
      "21\n",
      "{'stud1': 'john', 'stud2': 'rocky'}\n"
     ]
    }
   ],
   "source": [
    "#variables of arguments\n",
    "\n",
    "def display(*args):\n",
    "    \n",
    "    print(sum(args))\n",
    "\n",
    "display(1,2,3,4,5,6)\n",
    "\n",
    "def display1(**kwargs):\n",
    "    print(kwargs)\n",
    "\n",
    "display1(stud1=\"john\",stud2=\"rocky\")"
   ]
  },
  {
   "cell_type": "code",
   "execution_count": null,
   "id": "c6ac5c9b-be66-4194-9b22-d36a6e509754",
   "metadata": {},
   "outputs": [],
   "source": []
  }
 ],
 "metadata": {
  "kernelspec": {
   "display_name": "Python 3 (ipykernel)",
   "language": "python",
   "name": "python3"
  },
  "language_info": {
   "codemirror_mode": {
    "name": "ipython",
    "version": 3
   },
   "file_extension": ".py",
   "mimetype": "text/x-python",
   "name": "python",
   "nbconvert_exporter": "python",
   "pygments_lexer": "ipython3",
   "version": "3.13.3"
  }
 },
 "nbformat": 4,
 "nbformat_minor": 5
}
