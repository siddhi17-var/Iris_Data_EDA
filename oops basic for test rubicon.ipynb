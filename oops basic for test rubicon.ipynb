{
 "cells": [
  {
   "cell_type": "code",
   "execution_count": null,
   "id": "e36f657f-7362-4693-ab35-be9ac8ec2e6c",
   "metadata": {},
   "outputs": [],
   "source": [
    "oop : object oriented programming\n",
    "\n",
    "4 pillors\n",
    "encapsulation : data binding\n",
    "inheritance : extract the property parents class\n",
    "polymorphisum : one method many forms\n",
    "abstraction: data hidding\n",
    "\n",
    "\n",
    "\n",
    "class : structure/bluprint of object\n",
    "methods/functions : behaviour\n",
    "variables :attribute\n",
    "object :instance of class"
   ]
  },
  {
   "cell_type": "code",
   "execution_count": 3,
   "id": "2a838ca9-192d-4a82-ad11-cacd135c7534",
   "metadata": {},
   "outputs": [
    {
     "name": "stdout",
     "output_type": "stream",
     "text": [
      "hello i am the example of default constructor\n"
     ]
    }
   ],
   "source": [
    "class human:\n",
    "   def __init__(hi):\n",
    "       print(\"hello i am the example of default constructor\")\n",
    "\n",
    "komal=human()"
   ]
  },
  {
   "cell_type": "code",
   "execution_count": null,
   "id": "6ca9dd8a-80a5-4339-bad9-297b9636efd3",
   "metadata": {},
   "outputs": [],
   "source": []
  }
 ],
 "metadata": {
  "kernelspec": {
   "display_name": "Python 3 (ipykernel)",
   "language": "python",
   "name": "python3"
  },
  "language_info": {
   "codemirror_mode": {
    "name": "ipython",
    "version": 3
   },
   "file_extension": ".py",
   "mimetype": "text/x-python",
   "name": "python",
   "nbconvert_exporter": "python",
   "pygments_lexer": "ipython3",
   "version": "3.13.3"
  }
 },
 "nbformat": 4,
 "nbformat_minor": 5
}
